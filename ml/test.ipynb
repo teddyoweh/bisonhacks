{
 "cells": [
  {
   "cell_type": "code",
   "execution_count": 1,
   "metadata": {},
   "outputs": [
    {
     "name": "stdout",
     "output_type": "stream",
     "text": [
      "/var/folders/pp/ky6gnf7x3w901t4hrc3hznnc0000gn/T/tmp_gmeqxd3.mp4\n"
     ]
    }
   ],
   "source": [
    "import requests\n",
    "import tempfile\n",
    "import shutil\n",
    "import os\n",
    "def download_video(url):\n",
    "    try:\n",
    "        response = requests.get(url, stream=True)\n",
    "        response.raise_for_status()\n",
    "\n",
    "        with tempfile.NamedTemporaryFile(suffix='.mp4', delete=False) as temp_file:\n",
    "            for chunk in response.iter_content(chunk_size=8192):\n",
    "                temp_file.write(chunk)\n",
    "        \n",
    "        temp_file_path = temp_file.name\n",
    "        return temp_file_path\n",
    "    except Exception as e:\n",
    "        print(\"Error occurred:\", e)\n",
    "        return None\n",
    "\n",
    "video_url = 'https://res.cloudinary.com/ddaxprhmz/video/upload/v1710305755/Content_Teddy_O/Black_Forest_Cake_shorts_yfzejm.mp4'\n",
    "temp_file_path = download_video(video_url)\n",
    "print(temp_file_path)\n"
   ]
  },
  {
   "cell_type": "code",
   "execution_count": null,
   "metadata": {},
   "outputs": [],
   "source": [
    "from moviepy.editor import VideoFileClip\n",
    "\n",
    "clip = VideoFileClip(temp_file_path)\n",
    "duration = clip.duration\n",
    "clip.close()"
   ]
  }
 ],
 "metadata": {
  "kernelspec": {
   "display_name": "Python 3",
   "language": "python",
   "name": "python3"
  },
  "language_info": {
   "codemirror_mode": {
    "name": "ipython",
    "version": 3
   },
   "file_extension": ".py",
   "mimetype": "text/x-python",
   "name": "python",
   "nbconvert_exporter": "python",
   "pygments_lexer": "ipython3",
   "version": "3.9.6"
  }
 },
 "nbformat": 4,
 "nbformat_minor": 2
}
